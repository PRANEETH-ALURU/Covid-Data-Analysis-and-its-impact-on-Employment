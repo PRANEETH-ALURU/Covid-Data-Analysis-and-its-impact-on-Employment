{
 "cells": [
  {
   "cell_type": "code",
   "execution_count": null,
   "id": "9eac15b1",
   "metadata": {},
   "outputs": [],
   "source": [
    "import pandas as pd\n",
    "import numpy as np\n",
    "import scipy.stats as stats\n",
    "\n",
    "import plotly.express as px\n",
    "from plotly.subplots import make_subplots\n",
    "import plotly.graph_objs as go\n",
    "\n",
    "from sklearn.linear_model import LinearRegression\n",
    "\n",
    "import statsmodels.formula.api as smf\n",
    "from sklearn.preprocessing import PolynomialFeatures\n",
    "\n",
    "from sklearn import metrics\n",
    "\n",
    "from matplotlib import pyplot as plt\n",
    "import warnings\n",
    "warnings.filterwarnings('ignore')"
   ]
  },
  {
   "cell_type": "markdown",
   "id": "ee6e6895",
   "metadata": {},
   "source": [
    "### Reading covid master dataset data"
   ]
  },
  {
   "cell_type": "code",
   "execution_count": null,
   "id": "1125bc31",
   "metadata": {},
   "outputs": [],
   "source": [
    "covid_df = pd.read_parquet(\"../../../../data/covid_combined_dataset.parquet.gzip\")\n",
    "covid_df.head()"
   ]
  },
  {
   "cell_type": "markdown",
   "id": "dfdf96de",
   "metadata": {},
   "source": [
    "### Filtering Alabama state data"
   ]
  },
  {
   "cell_type": "code",
   "execution_count": null,
   "id": "aacff6ce",
   "metadata": {},
   "outputs": [],
   "source": [
    "#dataset filter for state to Albama\n",
    "al_covid_df = covid_df[covid_df['State']==\"AL\"]\n",
    "al_covid_df.head()"
   ]
  },
  {
   "cell_type": "code",
   "execution_count": null,
   "id": "d512c137",
   "metadata": {},
   "outputs": [],
   "source": [
    "#Calculating new cases per day or new death per day\n",
    "al_covid_df['New_cases_per_day']=al_covid_df['Cases'].diff()\n",
    "al_covid_df[\"New_death_per_day\"]=al_covid_df['Death'].diff()\n",
    "\n",
    "#Drop the first date as we we are using .diff, we will get the first value as NAN \n",
    "al_covid_df = al_covid_df[al_covid_df['Date'] != '2020-01-22']\n",
    "al_covid_dfBydate = al_covid_df.groupby(\"Date\").sum().reset_index()\n",
    "\n",
    "al_covid_dfBydate"
   ]
  },
  {
   "cell_type": "code",
   "execution_count": null,
   "id": "d8dbe614",
   "metadata": {},
   "outputs": [],
   "source": [
    "#Drop columns that are not necessary\n",
    "al_cleaned_data_df = al_covid_dfBydate.drop(['countyFIPS','StateFIPS','Cases','Death','population'],axis=1)\n",
    "al_cleaned_data_df.tail()"
   ]
  },
  {
   "cell_type": "code",
   "execution_count": null,
   "id": "a429cece",
   "metadata": {},
   "outputs": [],
   "source": [
    "al_firstcase_index = al_cleaned_data_df['New_cases_per_day'].ne(0).idxmax() \n",
    "# Get the index of the row when the first death was detected \n",
    "al_first_death_index= al_cleaned_data_df['New_death_per_day'].ne(0).idxmax()"
   ]
  },
  {
   "cell_type": "markdown",
   "id": "c5982aa4",
   "metadata": {},
   "source": [
    "### Calculting number of days since first case and first death"
   ]
  },
  {
   "cell_type": "code",
   "execution_count": null,
   "id": "3c1fdf22",
   "metadata": {},
   "outputs": [],
   "source": [
    "# Assign number of days since the first case\n",
    "casesSinceDay1=[]\n",
    "counter=1\n",
    "for i,index in enumerate(range(len(al_cleaned_data_df))):\n",
    "    if i<=al_firstcase_index:\n",
    "        casesSinceDay1.insert(index, 0) \n",
    "    else:\n",
    "        casesSinceDay1.insert(index, counter) \n",
    "        counter = counter+1        \n",
    "al_cleaned_data_df.insert(1, \"numberOfDaysSinceFirstCase\", casesSinceDay1)\n",
    "\n",
    "# Assign number of days since the first death\n",
    "deathsSinceDay1=[]\n",
    "counter=1\n",
    "for i,index in enumerate(range(len(al_cleaned_data_df))):\n",
    "    if i<=al_first_death_index:\n",
    "        deathsSinceDay1.insert(index, 0) \n",
    "    else:\n",
    "        deathsSinceDay1.insert(index, counter) \n",
    "        counter = counter+1        \n",
    "al_cleaned_data_df.insert(3, \"numberOfDaysSinceFirstDeath\", deathsSinceDay1)"
   ]
  },
  {
   "cell_type": "code",
   "execution_count": null,
   "id": "c2df389f",
   "metadata": {},
   "outputs": [],
   "source": [
    "al_cleaned_data_df.head()"
   ]
  },
  {
   "cell_type": "markdown",
   "id": "84b4a281",
   "metadata": {},
   "source": [
    "### Linear Regression model of AL for cases"
   ]
  },
  {
   "cell_type": "code",
   "execution_count": null,
   "id": "ecbee967",
   "metadata": {},
   "outputs": [],
   "source": [
    "al_cases_before_drop = al_cleaned_data_df[['numberOfDaysSinceFirstCase','New_cases_per_day']]\n",
    "#Drop all the rows \n",
    "al_cases = al_cases_before_drop[al_cases_before_drop['numberOfDaysSinceFirstCase']!=0]\n",
    "al_cases"
   ]
  },
  {
   "cell_type": "markdown",
   "id": "0bfd117c",
   "metadata": {},
   "source": [
    "### Model training"
   ]
  },
  {
   "cell_type": "code",
   "execution_count": null,
   "id": "d96e958a",
   "metadata": {},
   "outputs": [],
   "source": [
    "#Define the independent and dependent variable\n",
    "X = al_cases.iloc[:,0].values.reshape(-1, 1) \n",
    "y = al_cases.iloc[:,1].values.reshape(-1, 1) \n",
    "\n",
    "#Define and fit the LinearRegression model  \n",
    "lr_model = LinearRegression()\n",
    "lr_model.fit(X, y)\n",
    "\n",
    "#predict the number of new cases per day since the first case\n",
    "cases_prediction = lr_model.predict(X)"
   ]
  },
  {
   "cell_type": "code",
   "execution_count": null,
   "id": "a1e83c69",
   "metadata": {},
   "outputs": [],
   "source": [
    "#Function for getting confidence interval\n",
    "def get_confidence_interval(prediction, y_test, test_predictions, pi=.95):  \n",
    "    #get standard deviation of y_test\n",
    "    sum_errs = np.sum((y_test - test_predictions)**2)\n",
    "    stdev = np.sqrt(sum_errs / (len(y_test) - 2))\n",
    "#get interval from standard deviation\n",
    "    one_minus_pi = 1 - pi\n",
    "    ppf_lookup = 1 - (one_minus_pi / 2)\n",
    "    z_score = stats.norm.ppf(ppf_lookup)\n",
    "    interval = z_score * stdev\n",
    "    \n",
    "#generate prediction interval lower and upper bound\n",
    "    lower, upper = prediction - interval, prediction + interval\n",
    "    return lower, prediction, upper"
   ]
  },
  {
   "cell_type": "markdown",
   "id": "60f283ee",
   "metadata": {},
   "source": [
    "### Calculating Root mean square error for the data"
   ]
  },
  {
   "cell_type": "code",
   "execution_count": null,
   "id": "1409e8d9",
   "metadata": {},
   "outputs": [],
   "source": [
    "print(\"RMSE: \",np.sqrt(metrics.mean_squared_error(y,cases_prediction)))"
   ]
  },
  {
   "cell_type": "markdown",
   "id": "754b4c09",
   "metadata": {},
   "source": [
    "### Plotting graph for Alabama state cases trend line and confidence intervals"
   ]
  },
  {
   "cell_type": "code",
   "execution_count": null,
   "id": "97e5b8f2",
   "metadata": {},
   "outputs": [],
   "source": [
    "# Predict the number of new cases for the next 3 week's of data\n",
    "future_dates = np.arange(706,727).reshape(-1,1)\n",
    "future_cases = lr_model.predict(future_dates)\n",
    "\n",
    "#Confidence Interval\n",
    "[err_down, prediction, err_up] = get_confidence_interval(cases_prediction, y, cases_prediction, pi=.95)\n",
    "\n",
    "#Plot the trend line and prediction path\n",
    "fig = go.Figure([\n",
    "    go.Scatter(x=X.squeeze(),y=y.squeeze(),name='Actual Cases',mode='markers'),\n",
    "    go.Scatter(x=X.squeeze(),y=cases_prediction.squeeze(),name='Model',mode='lines'),\n",
    "    go.Scatter(x=future_dates.squeeze(),y=future_cases.squeeze(),name='Prediction',mode='lines'),\n",
    "    go.Scatter(x=X.squeeze(),y=err_down.squeeze(), name='LR Model CI_Lower',mode='lines', line={'dash': 'dash', 'color': 'red'}),\n",
    "    go.Scatter(x=X.squeeze(),y=err_up.squeeze(), name='LR Model CI_Upper',mode='lines', line={'dash': 'dash', 'color': 'red'}),\n",
    "    ])\n",
    "\n",
    "fig.update_layout(\n",
    "    title={'text':\"Linear Regression for Alabama state cases\",\n",
    "           'y':0.85,'x':0.5,\n",
    "           'xanchor':'center', \n",
    "           'yanchor':'top'},\n",
    "    xaxis_title=\"Number of Days since first case\",\n",
    "    yaxis_title=\"Number of new Cases\",\n",
    ")\n",
    "fig.show()"
   ]
  },
  {
   "cell_type": "markdown",
   "id": "00e1e469",
   "metadata": {},
   "source": [
    "### Linear Regression for Deaths"
   ]
  },
  {
   "cell_type": "code",
   "execution_count": null,
   "id": "35ca7c56",
   "metadata": {},
   "outputs": [],
   "source": [
    "al_deaths_before_drop = al_cleaned_data_df[['numberOfDaysSinceFirstDeath','New_death_per_day']]\n",
    "#Drop all the rows \n",
    "al_deaths = al_deaths_before_drop[al_deaths_before_drop['numberOfDaysSinceFirstDeath']!=0]\n",
    "al_deaths"
   ]
  },
  {
   "cell_type": "code",
   "execution_count": null,
   "id": "82bd5365",
   "metadata": {},
   "outputs": [],
   "source": [
    "#Define the independent and dependent variable\n",
    "X = al_deaths.iloc[:,0].values.reshape(-1, 1) \n",
    "y = al_deaths.iloc[:,1].values.reshape(-1, 1) \n",
    "\n",
    "lr_model.fit(X, y)\n",
    "\n",
    "#predict the number of new cases per day since the first case\n",
    "deaths_prediction = lr_model.predict(X)"
   ]
  },
  {
   "cell_type": "code",
   "execution_count": null,
   "id": "27c291cf",
   "metadata": {},
   "outputs": [],
   "source": [
    "print(\"RMSE for deaths: \",np.sqrt(metrics.mean_squared_error(y,deaths_prediction)))"
   ]
  },
  {
   "cell_type": "code",
   "execution_count": null,
   "id": "1e59997d",
   "metadata": {},
   "outputs": [],
   "source": [
    "# Predict the number of new cases for the next 3 week's of data\n",
    "future_dates = np.arange(694,715).reshape(-1,1)\n",
    "future_deaths = lr_model.predict(future_dates)\n",
    "\n",
    "#Confidence Interval\n",
    "[err_down, prediction, err_up] = get_confidence_interval(deaths_prediction, y, deaths_prediction, pi=.95)\n",
    "\n",
    "#Plot the trend line and prediction path\n",
    "fig = go.Figure([\n",
    "    go.Scatter(x=X.squeeze(),y=y.squeeze(),name='Actual Cases',mode='markers'),\n",
    "    go.Scatter(x=X.squeeze(),y=deaths_prediction.squeeze(),name='Model',mode='lines'),\n",
    "    go.Scatter(x=future_dates.squeeze(),y=future_deaths.squeeze(),name='Prediction',mode='lines'),\n",
    "    go.Scatter(x=X.squeeze(),y=err_down.squeeze(), name='LR Model CI_Lower',mode='lines', line={'dash': 'dash', 'color': 'red'}),\n",
    "    go.Scatter(x=X.squeeze(),y=err_up.squeeze(), name='LR Model CI_Upper',mode='lines', line={'dash': 'dash', 'color': 'red'}),\n",
    "    ])\n",
    "\n",
    "fig.update_layout(\n",
    "    title={'text':\"Linear Regression for Alabama state deaths\",\n",
    "           'y':0.85,'x':0.5,\n",
    "           'xanchor':'center', \n",
    "           'yanchor':'top'},\n",
    "    xaxis_title=\"Number of Days since first death\",\n",
    "    yaxis_title=\"Number of new Cases\",\n",
    ")\n",
    "fig.show()"
   ]
  },
  {
   "cell_type": "markdown",
   "id": "f8b11255",
   "metadata": {},
   "source": [
    "### Non-Linear Regression Model of AL for cases"
   ]
  },
  {
   "cell_type": "code",
   "execution_count": null,
   "id": "58813b68",
   "metadata": {},
   "outputs": [],
   "source": [
    "#Define the independent and dependent variable\n",
    "X = al_cases.numberOfDaysSinceFirstCase.values.reshape(-1, 1)\n",
    "y_d = al_cases.New_cases_per_day.values.reshape(-1, 1)\n",
    "x_range = np.linspace(X.min(), X.max(), y_d.shape[0]).reshape(-1, 1)\n",
    "future_dates = np.arange(531,540).reshape(-1,1)\n",
    "fig = go.Figure()\n",
    "fig.add_traces(go.Scatter(x=al_cases['numberOfDaysSinceFirstCase'], y=al_cases['New_cases_per_day']\n",
    "                          , name= \"Actual Cases\", mode=\"markers\"))\n",
    "fig1 = go.Figure()\n",
    "fig1.add_traces(go.Scatter(x=al_cases['numberOfDaysSinceFirstCase'], y=al_cases['New_cases_per_day']\n",
    "                          , name= \"Actual Cases\", mode=\"markers\"))\n",
    "for degree in [1, 2, 3, 4]:\n",
    "    \n",
    "    #Define and fit the LinearRegression model\n",
    "    poly = PolynomialFeatures(degree)\n",
    "    poly.fit(X)\n",
    "    X_poly = poly.transform(X)\n",
    "    x_range_poly = poly.transform(x_range)\n",
    "    future_dates_poly = poly.transform(future_dates)\n",
    "    \n",
    "    model = LinearRegression(fit_intercept=False)\n",
    "    model.fit(X_poly, al_cases.New_cases_per_day)\n",
    "    \n",
    "    #predict the number of new cases per day since the fist case\n",
    "    y_poly = model.predict(x_range_poly)\n",
    "    \n",
    "    # Predict the number of new cases for the next 1 week's of data\n",
    "    future_cases = model.predict(future_dates_poly)\n",
    "    \n",
    "    #Caluculate the metrics and print\n",
    "    print(\"RMSE for degree = \",degree,\"is \",np.sqrt(metrics.mean_squared_error(y_d,y_poly)))\n",
    "    \n",
    "    if degree == 3:\n",
    "        [err_down, prediction, err_up] = get_confidence_interval(y_poly, y_d, y_poly, pi=.95)\n",
    "        fig1.add_traces(go.Scatter(x=x_range.squeeze(), y=y_poly, name=\"Poly Degree:{}\".format(degree)))\n",
    "        fig1.add_traces(go.Scatter(x=future_dates.squeeze(),y=future_cases.squeeze(),name='Future Degree:{} Prediction'.format(degree),mode='lines'))\n",
    "        fig1.add_traces(go.Scatter(x=X.squeeze(),y=err_down.squeeze(), name='LR Model CI_Lower',mode='lines', line={'dash': 'dash', 'color': 'red'}))\n",
    "        fig1.add_traces(go.Scatter(x=X.squeeze(),y=err_up.squeeze(), name='LR Model CI_Upper',mode='lines', line={'dash': 'dash', 'color': 'red'}))\n",
    "\n",
    "        fig1.update_layout(\n",
    "        title={'text':\"Non-Linear Regression for AL Cases\",\n",
    "               'y':0.92,'x':0.5,\n",
    "               'xanchor':'center', \n",
    "               'yanchor':'top'},\n",
    "        xaxis_title=\"Number of Days since first case\",\n",
    "        yaxis_title=\"Number of new deaths\")\n",
    "    \n",
    "    #Plot the trend line and prediction path\n",
    "    fig.add_traces(go.Scatter(x=x_range.squeeze(), y=y_poly, name=\"Poly Degree:{}\".format(degree)))\n",
    "    fig.add_traces(go.Scatter(x=future_dates.squeeze(),y=future_cases.squeeze(),name='Future Prediction',mode='lines'))\n",
    "    fig.update_layout(\n",
    "    title={'text':\"Non-Linear Regression for Alabama Cases\",\n",
    "           'y':0.92,'x':0.5,\n",
    "           'xanchor':'center', \n",
    "           'yanchor':'top'},\n",
    "    xaxis_title=\"Number of Days since first case\",\n",
    "    yaxis_title=\"Number of new cases\",\n",
    ")\n",
    "\n",
    "fig.show()"
   ]
  },
  {
   "cell_type": "markdown",
   "id": "a1e43514",
   "metadata": {},
   "source": [
    "### Non-Linear Regression Model of AL for deaths"
   ]
  },
  {
   "cell_type": "code",
   "execution_count": null,
   "id": "fb90b3d1",
   "metadata": {},
   "outputs": [],
   "source": [
    "#Define the independent and dependent variable\n",
    "X = al_deaths.numberOfDaysSinceFirstDeath.values.reshape(-1, 1)\n",
    "y_d = al_deaths.New_death_per_day.values.reshape(-1, 1)\n",
    "x_range = np.linspace(X.min(), X.max(), y_d.shape[0]).reshape(-1, 1)\n",
    "future_dates = np.arange(509,518).reshape(-1,1)\n",
    "\n",
    "fig = go.Figure()\n",
    "fig.add_traces(go.Scatter(x=al_deaths['numberOfDaysSinceFirstDeath'], y=al_deaths['New_death_per_day']\n",
    "                          , name= \"Actual Deaths\", mode=\"markers\"))\n",
    "fig1 = go.Figure()\n",
    "fig1.add_traces(go.Scatter(x=al_deaths['numberOfDaysSinceFirstDeath'], y=al_deaths['New_death_per_day']\n",
    "                          , name= \"Actual Deaths\", mode=\"markers\"))\n",
    "for degree in [1, 2, 3, 4]:\n",
    "    \n",
    "    #Define and fit the LinearRegression model\n",
    "    poly = PolynomialFeatures(degree)\n",
    "    poly.fit(X)\n",
    "    X_poly = poly.transform(X)\n",
    "    x_range_poly = poly.transform(x_range)\n",
    "    future_dates_poly = poly.transform(future_dates)\n",
    "    \n",
    "    model = LinearRegression(fit_intercept=False)\n",
    "    model.fit(X_poly, al_deaths.New_death_per_day)\n",
    "    \n",
    "    #predict the number of new deaths per day since the fist deaths\n",
    "    y_poly = model.predict(x_range_poly)\n",
    "    \n",
    "    # Predict the number of new deaths for the next 1 week's of data\n",
    "    future_cases = model.predict(future_dates_poly)\n",
    "    \n",
    "    #if degree == 3:\n",
    "    [err_down, prediction, err_up] = get_confidence_interval(y_poly, y_d, y_poly, pi=.95)\n",
    "    fig1.add_traces(go.Scatter(x=x_range.squeeze(), y=y_poly, name=\"Poly Degree:{}\".format(degree)))\n",
    "    fig1.add_traces(go.Scatter(x=future_dates.squeeze(),y=future_cases.squeeze(),name='Future Degree:{} Prediction'.format(degree),mode='lines'))\n",
    "    fig1.add_traces(go.Scatter(x=X.squeeze(),y=err_down.squeeze(), name='LR Model CI_Lower',mode='lines', line={'dash': 'dash', 'color': 'red'}))\n",
    "    fig1.add_traces(go.Scatter(x=X.squeeze(),y=err_up.squeeze(), name='LR Model CI_Upper',mode='lines', line={'dash': 'dash', 'color': 'red'}))\n",
    "    \n",
    "    fig1.update_layout(\n",
    "    title={'text':\"Non-Linear Regression for AL Deaths\",\n",
    "               'y':0.92,'x':0.5,\n",
    "               'xanchor':'center', \n",
    "               'yanchor':'top'},\n",
    "        xaxis_title=\"Number of Days since first death\",\n",
    "        yaxis_title=\"Number of new deaths\")\n",
    "        \n",
    "    #Caluculate the metrics and print\n",
    "    print(\"RMSE for degree =\",degree,\"is \",np.sqrt(metrics.mean_squared_error(y_d,y_poly)))\n",
    "    \n",
    "    #Plot the trend line and prediction path\n",
    "    fig.add_traces(go.Scatter(x=x_range.squeeze(), y=y_poly, name=\"Poly Degree:{}\".format(degree)))\n",
    "    fig.add_traces(go.Scatter(x=future_dates.squeeze(),y=future_cases.squeeze(),name='Future Degree:{} Prediction'.format(degree),mode='lines')),\n",
    "    \n",
    "    \n",
    "    fig.update_layout(\n",
    "    title={'text':\"Non-Linear Regression for Alabama Deaths\",\n",
    "           'y':0.92,'x':0.5,\n",
    "           'xanchor':'center', \n",
    "           'yanchor':'top'},\n",
    "    xaxis_title=\"Number of Days since first death\",\n",
    "    yaxis_title=\"Number of new deaths\",\n",
    ")\n",
    "fig.show()"
   ]
  },
  {
   "cell_type": "markdown",
   "id": "b47c5a36",
   "metadata": {},
   "source": [
    "### Observation :\n",
    "-  From the above plot we can say that non-linear model with degree 3 model best fits the data "
   ]
  },
  {
   "cell_type": "markdown",
   "id": "db9c01c8",
   "metadata": {},
   "source": [
    "### From stage 2 the top 5 most affected counties are:\n",
    "  - Hale County\n",
    "  - Winston County\n",
    "  - Franklin County\n",
    "  - Clay County\n",
    "  - Clarke County"
   ]
  },
  {
   "cell_type": "code",
   "execution_count": null,
   "id": "16751c4e",
   "metadata": {},
   "outputs": [],
   "source": [
    "# Remove the rows that conatin county name as \"statewide unallocated\"\n",
    "AL_county_data= al_covid_df[al_covid_df['County Name'] != 'statewide unallocated']\n",
    "top5_county_data = AL_county_data[AL_county_data[\"County Name\"].isin([\"Hale County \",\"Winston County \",\"Franklin County \",\"Clay County \",\"Clarke County \"])]\n",
    "#normalize the total number of cases and deaths of each county by dividing it by total population and multiply by 100000\n",
    "top5_county_data['New_cases_per_day'][top5_county_data['New_cases_per_day'] < 0] = 0\n",
    "top5_county_data['New_death_per_day'][top5_county_data['New_death_per_day'] < 0] = 0\n",
    "\n",
    "top5_county_data['Num_of_Cases_per_day_normalized'] = (top5_county_data['New_cases_per_day']/top5_county_data['population'])*1000000\n",
    "top5_county_data['Num_of_Deaths_per_day_normalized'] = (top5_county_data['New_death_per_day']/top5_county_data['population'])*1000000\n",
    "top5_county_data"
   ]
  },
  {
   "cell_type": "code",
   "execution_count": null,
   "id": "b25175b9",
   "metadata": {},
   "outputs": [],
   "source": [
    "#Function to calculate the Linear and Non-linear model for new cases\n",
    "def casesNonLinearModel(df_cases,future_dates,county_name):\n",
    "    #Define the independent and dependent variable\n",
    "    X = df_cases.numOfDaysSinceFirstCase.values.reshape(-1, 1)\n",
    "    y_d = df_cases.Num_of_Cases_per_day_normalized.values.reshape(-1, 1)\n",
    "    x_range = np.linspace(X.min(), X.max(), y_d.shape[0]).reshape(-1, 1)\n",
    "    \n",
    "    fig = go.Figure()\n",
    "    fig.add_traces(go.Scatter(x=df_cases['numOfDaysSinceFirstCase'], y=df_cases['Num_of_Cases_per_day_normalized']\n",
    "                              , name= \"Actual Cases\", mode=\"markers\"))\n",
    "    for degree in [1, 2, 3, 4]:\n",
    "\n",
    "        #Define and fit the LinearRegression model\n",
    "        poly = PolynomialFeatures(degree)\n",
    "        poly.fit(X)\n",
    "        X_poly = poly.transform(X)\n",
    "        x_range_poly = poly.transform(x_range)\n",
    "        future_dates_poly = poly.transform(future_dates)\n",
    "\n",
    "        model = LinearRegression(fit_intercept=False)\n",
    "        model.fit(X_poly, df_cases.Num_of_Cases_per_day_normalized)\n",
    "\n",
    "        #predict the number of new cases per day since the fist case\n",
    "        y_poly = model.predict(x_range_poly)\n",
    "\n",
    "        # Predict the number of new cases for the next 1 week's of data\n",
    "        future_cases = model.predict(future_dates_poly)\n",
    "\n",
    "        #Caluculate the metrics and print\n",
    "        print(\"RMSE for degree = \",degree,\"is \",np.sqrt(metrics.mean_squared_error(y_d,y_poly)))\n",
    "\n",
    "        #Plot the trend line and prediction path\n",
    "        fig.add_traces(go.Scatter(x=x_range.squeeze(), y=y_poly, name=\"Poly Degree:{}\".format(degree)))\n",
    "        fig.add_traces(go.Scatter(x=future_dates.squeeze(),y=future_cases.squeeze(),name='Future Degree:{} Prediction'.format(degree),mode='lines'))\n",
    "        fig.update_layout(\n",
    "        title={'text':\"Non-Linear Regression for Alabama {} Cases\".format(county_name),\n",
    "               'y':0.92,'x':0.5,\n",
    "               'xanchor':'center', \n",
    "               'yanchor':'top'},\n",
    "        xaxis_title=\"Number of Days since first case\",\n",
    "        yaxis_title=\"Number of new cases per 100000\",\n",
    "    )\n",
    "    return fig"
   ]
  },
  {
   "cell_type": "code",
   "execution_count": null,
   "id": "8d276ce9",
   "metadata": {},
   "outputs": [],
   "source": [
    " def deathsNonLinearModel(df_deaths,future_dates,county_name):\n",
    "    #Define the independent and dependent variable\n",
    "    X = df_deaths.numOfDaysSinceFirstDeath.values.reshape(-1, 1)\n",
    "    y_d = df_deaths.Num_of_Deaths_per_day_normalized.values.reshape(-1, 1)\n",
    "    x_range = np.linspace(X.min(), X.max(), y_d.shape[0]).reshape(-1, 1)\n",
    "\n",
    "\n",
    "    fig = go.Figure()\n",
    "    fig.add_traces(go.Scatter(x=df_deaths['numOfDaysSinceFirstDeath'], y=df_deaths['Num_of_Deaths_per_day_normalized']\n",
    "                              , name= \"Actual Deaths\", mode=\"markers\"))\n",
    "    for degree in [1, 2, 3, 4]:\n",
    "\n",
    "        #Define and fit the LinearRegression model\n",
    "        poly = PolynomialFeatures(degree)\n",
    "        poly.fit(X)\n",
    "        X_poly = poly.transform(X)\n",
    "        x_range_poly = poly.transform(x_range)\n",
    "        future_dates_poly = poly.transform(future_dates)\n",
    "\n",
    "        model = LinearRegression(fit_intercept=False)\n",
    "        model.fit(X_poly, df_deaths.Num_of_Deaths_per_day_normalized)\n",
    "\n",
    "        #predict the number of new deaths per day since the fist deaths\n",
    "        y_poly = model.predict(x_range_poly)\n",
    "\n",
    "        # Predict the number of new deaths for the next 1 week's of data\n",
    "        future_cases = model.predict(future_dates_poly)\n",
    "\n",
    "        #Caluculate the metrics and print\n",
    "        print(\"RMSE for degree =\",degree,\"is \",np.sqrt(metrics.mean_squared_error(y_d,y_poly)))\n",
    "\n",
    "        #Plot the trend line and prediction path\n",
    "        fig.add_traces(go.Scatter(x=x_range.squeeze(), y=y_poly, name=\"Poly Degree:{}\".format(degree)))\n",
    "        fig.add_traces(go.Scatter(x=future_dates.squeeze(),y=future_cases.squeeze(),name='Future Degree:{} Prediction'.format(degree),mode='lines')),\n",
    "        fig.update_layout(\n",
    "        title={'text':\"Non-Linear Regression for {} Deaths\".format(county_name),\n",
    "               'y':0.92,'x':0.5,\n",
    "               'xanchor':'center', \n",
    "               'yanchor':'top'},\n",
    "        xaxis_title=\"Number of Days since first death\",\n",
    "        yaxis_title=\"Number of new deaths per 100000\",\n",
    "    )\n",
    "    return fig"
   ]
  },
  {
   "cell_type": "markdown",
   "id": "fac09281",
   "metadata": {},
   "source": [
    "### Hale County Cases and DeathsTrends"
   ]
  },
  {
   "cell_type": "code",
   "execution_count": null,
   "id": "6f5f6da1",
   "metadata": {},
   "outputs": [],
   "source": [
    "#Select the hale_county_data \n",
    "hale_county_data = top5_county_data[top5_county_data['County Name']=='Hale County '].reset_index()\n",
    "\n",
    "# Get the index of the row when the first case was detected \n",
    "hale_county_data_first_case_index = hale_county_data['Num_of_Cases_per_day_normalized'].ne(0).idxmax() \n",
    "\n",
    "# Get the index of the row when the first death was detected \n",
    "hale_county_data_first_death_index= hale_county_data['Num_of_Deaths_per_day_normalized'].ne(0).idxmax() \n",
    "\n",
    "# Assign number of days since the first case\n",
    "numOfCasesSinceDay1=[]\n",
    "counter=1\n",
    "for i,index in enumerate(range(len(al_cleaned_data_df))):\n",
    "    if i<=hale_county_data_first_case_index:\n",
    "        numOfCasesSinceDay1.insert(index, 0) \n",
    "    else:\n",
    "        numOfCasesSinceDay1.insert(index, counter) \n",
    "        counter = counter+1        \n",
    "hale_county_data.insert(1, \"numOfDaysSinceFirstCase\", numOfCasesSinceDay1)\n",
    "\n",
    "# Assign number of days since the first death\n",
    "numOfDeathsSinceDay1=[]\n",
    "counter=1\n",
    "for i,index in enumerate(range(len(al_cleaned_data_df))):\n",
    "    if i<=hale_county_data_first_death_index:\n",
    "        numOfDeathsSinceDay1.insert(index, 0) \n",
    "    else:\n",
    "        numOfDeathsSinceDay1.insert(index, counter) \n",
    "        counter = counter+1        \n",
    "hale_county_data.insert(3, \"numOfDaysSinceFirstDeath\", numOfDeathsSinceDay1)\n",
    "\n",
    "#Select the wo colums which are required\n",
    "hale_county_cases_before_drop = hale_county_data[['numOfDaysSinceFirstCase','Num_of_Cases_per_day_normalized']]\n",
    "#Drop all the rows before the first case\n",
    "df_cases = hale_county_cases_before_drop[hale_county_cases_before_drop['numOfDaysSinceFirstCase']!=0]\n",
    "\n",
    "hale_county_deaths_before_drop = hale_county_data[['numOfDaysSinceFirstDeath','Num_of_Deaths_per_day_normalized']]\n",
    "df_deaths = hale_county_deaths_before_drop[hale_county_deaths_before_drop['numOfDaysSinceFirstDeath']!=0]\n",
    "\n",
    "print(df_cases.numOfDaysSinceFirstCase.count())\n",
    "print(df_deaths.numOfDaysSinceFirstDeath.count())"
   ]
  },
  {
   "cell_type": "code",
   "execution_count": null,
   "id": "a6727a88",
   "metadata": {},
   "outputs": [],
   "source": [
    "future_dates_cases = np.arange(689,700).reshape(-1,1)\n",
    "future_dates_deaths = np.arange(664,675).reshape(-1,1)\n",
    "\n",
    "fig_cases = casesNonLinearModel(df_cases,future_dates_cases,\"Hale_county\")\n",
    "fig_cases.show()"
   ]
  },
  {
   "cell_type": "code",
   "execution_count": null,
   "id": "1ab2da1e",
   "metadata": {},
   "outputs": [],
   "source": [
    "import statsmodels.api as sm\n",
    "X = df_cases[\"numOfDaysSinceFirstCase\"].values.reshape(-1,1)\n",
    "y = df_cases[\"Num_of_Cases_per_day_normalized\"].values.reshape(-1,1)\n",
    "\n",
    "polynomial_features = PolynomialFeatures(degree=3)\n",
    "xp = polynomial_features.fit_transform(X)\n",
    "\n",
    "model = sm.OLS(y, xp).fit()\n",
    "ypred = model.predict(xp) \n",
    "\n",
    "\n",
    "from statsmodels.sandbox.regression.predstd import wls_prediction_std\n",
    "_, upper,lower = wls_prediction_std(model)\n",
    "\n",
    "plt.scatter(X,y)\n",
    "plt.plot(X,ypred)\n",
    "plt.plot(X,upper,'--',label=\"Upper\") # confid. intrvl\n",
    "plt.plot(X,lower,':',label=\"lower\")\n",
    "plt.title(\"Confidence Interval for Hale County Cases\")\n",
    "plt.legend(loc='upper left')"
   ]
  },
  {
   "cell_type": "code",
   "execution_count": null,
   "id": "39bec7bb",
   "metadata": {},
   "outputs": [],
   "source": [
    "fig_deaths = deathsNonLinearModel(df_deaths,future_dates_deaths,\"Hale_county\")\n",
    "fig_deaths.show()"
   ]
  },
  {
   "cell_type": "code",
   "execution_count": null,
   "id": "0b533040",
   "metadata": {},
   "outputs": [],
   "source": [
    "#Confidence Interval\n",
    "import statsmodels.api as sm\n",
    "X = df_deaths[\"numOfDaysSinceFirstDeath\"].values.reshape(-1,1)\n",
    "y = df_deaths[\"Num_of_Deaths_per_day_normalized\"].values.reshape(-1,1)\n",
    "\n",
    "polynomial_features = PolynomialFeatures(degree=3)\n",
    "xp = polynomial_features.fit_transform(X)\n",
    "\n",
    "model = sm.OLS(y, xp).fit()\n",
    "ypred = model.predict(xp) \n",
    "\n",
    "# print(np.sqrt(mean_squared_error(y,ypred)))\n",
    "# model.summary()\n",
    "\n",
    "from statsmodels.sandbox.regression.predstd import wls_prediction_std\n",
    "_, upper,lower = wls_prediction_std(model)\n",
    "\n",
    "plt.scatter(X,y)\n",
    "plt.plot(X,ypred)\n",
    "plt.plot(X,upper,'--',label=\"Upper\") # confid. intrvl\n",
    "plt.plot(X,lower,':',label=\"lower\")\n",
    "plt.legend(loc='upper left')"
   ]
  },
  {
   "cell_type": "markdown",
   "id": "92c8d441",
   "metadata": {},
   "source": [
    "### Winston County Cases and DeathsTrends"
   ]
  },
  {
   "cell_type": "code",
   "execution_count": null,
   "id": "0664f098",
   "metadata": {},
   "outputs": [],
   "source": [
    "#Select the winston_county_data \n",
    "winston_county_data = top5_county_data[top5_county_data['County Name']=='Winston County '].reset_index()\n",
    "\n",
    "# Get the index of the row when the first case was detected \n",
    "winston_county_data_first_case_index = winston_county_data['Num_of_Cases_per_day_normalized'].ne(0).idxmax() \n",
    "\n",
    "# Get the index of the row when the first death was detected \n",
    "winston_county_data_first_death_index= winston_county_data['Num_of_Deaths_per_day_normalized'].ne(0).idxmax() \n",
    "\n",
    "# Assign number of days since the first case\n",
    "numOfCasesSinceDay1=[]\n",
    "counter=1\n",
    "for i,index in enumerate(range(len(al_cleaned_data_df))):\n",
    "    if i<=winston_county_data_first_case_index:\n",
    "        numOfCasesSinceDay1.insert(index, 0) \n",
    "    else:\n",
    "        numOfCasesSinceDay1.insert(index, counter) \n",
    "        counter = counter+1        \n",
    "winston_county_data.insert(1, \"numOfDaysSinceFirstCase\", numOfCasesSinceDay1)\n",
    "\n",
    "# Assign number of days since the first death\n",
    "numOfDeathsSinceDay1=[]\n",
    "counter=1\n",
    "for i,index in enumerate(range(len(al_cleaned_data_df))):\n",
    "    if i<=winston_county_data_first_death_index:\n",
    "        numOfDeathsSinceDay1.insert(index, 0) \n",
    "    else:\n",
    "        numOfDeathsSinceDay1.insert(index, counter) \n",
    "        counter = counter+1        \n",
    "winston_county_data.insert(3, \"numOfDaysSinceFirstDeath\", numOfDeathsSinceDay1)\n",
    "\n",
    "#Select the wo colums which are required\n",
    "winston_county_cases_before_drop = winston_county_data[['numOfDaysSinceFirstCase','Num_of_Cases_per_day_normalized']]\n",
    "#Drop all the rows before the first case\n",
    "df_cases = winston_county_cases_before_drop[winston_county_cases_before_drop['numOfDaysSinceFirstCase']!=0]\n",
    "\n",
    "winston_county_deaths_before_drop = winston_county_data[['numOfDaysSinceFirstDeath','Num_of_Deaths_per_day_normalized']]\n",
    "df_deaths = winston_county_deaths_before_drop[winston_county_deaths_before_drop['numOfDaysSinceFirstDeath']!=0]\n",
    "\n",
    "print(df_cases.numOfDaysSinceFirstCase.count())\n",
    "print(df_deaths.numOfDaysSinceFirstDeath.count())"
   ]
  },
  {
   "cell_type": "code",
   "execution_count": null,
   "id": "7482c3d6",
   "metadata": {},
   "outputs": [],
   "source": [
    "future_dates_cases = np.arange(692,699).reshape(-1,1)\n",
    "future_dates_deaths = np.arange(614,621).reshape(-1,1)\n",
    "\n",
    "fig_cases = casesNonLinearModel(df_cases,future_dates_cases,\"Winston_county\")\n",
    "fig_cases.show()"
   ]
  },
  {
   "cell_type": "code",
   "execution_count": null,
   "id": "6b7bf934",
   "metadata": {},
   "outputs": [],
   "source": [
    "#Confidence Interval\n",
    "X = df_cases[\"numOfDaysSinceFirstCase\"].values.reshape(-1,1)\n",
    "y = df_cases[\"Num_of_Cases_per_day_normalized\"].values.reshape(-1,1)\n",
    "\n",
    "polynomial_features = PolynomialFeatures(degree=3)\n",
    "xp = polynomial_features.fit_transform(X)\n",
    "\n",
    "model = sm.OLS(y, xp).fit()\n",
    "ypred = model.predict(xp) \n",
    "\n",
    "from statsmodels.sandbox.regression.predstd import wls_prediction_std\n",
    "_, upper,lower = wls_prediction_std(model)\n",
    "\n",
    "plt.scatter(X,y)\n",
    "plt.plot(X,ypred)\n",
    "plt.plot(X,upper,'--',label=\"Upper\") # confid. intrvl\n",
    "plt.plot(X,lower,':',label=\"lower\")\n",
    "plt.title(\"Confidence Interval for Winston County Cases\")\n",
    "plt.legend(loc='upper left')"
   ]
  },
  {
   "cell_type": "code",
   "execution_count": null,
   "id": "fa67ebc9",
   "metadata": {},
   "outputs": [],
   "source": [
    "fig_deaths = deathsNonLinearModel(df_deaths,future_dates_deaths,\"Winston_county\")\n",
    "fig_deaths.show()"
   ]
  },
  {
   "cell_type": "code",
   "execution_count": null,
   "id": "5956283b",
   "metadata": {},
   "outputs": [],
   "source": [
    "#Confidence Inteval\n",
    "X = df_deaths[\"numOfDaysSinceFirstDeath\"].values.reshape(-1,1)\n",
    "y = df_deaths[\"Num_of_Deaths_per_day_normalized\"].values.reshape(-1,1)\n",
    "\n",
    "polynomial_features = PolynomialFeatures(degree=2)\n",
    "xp = polynomial_features.fit_transform(X)\n",
    "\n",
    "model = sm.OLS(y, xp).fit()\n",
    "ypred = model.predict(xp) \n",
    "\n",
    "from statsmodels.sandbox.regression.predstd import wls_prediction_std\n",
    "_, upper,lower = wls_prediction_std(model)\n",
    "\n",
    "plt.scatter(X,y)\n",
    "plt.plot(X,ypred)\n",
    "plt.plot(X,upper,'--',label=\"Upper\") # confid. intrvl\n",
    "plt.plot(X,lower,':',label=\"lower\")\n",
    "plt.legend(loc='upper left')"
   ]
  },
  {
   "cell_type": "markdown",
   "id": "8b414a1c",
   "metadata": {},
   "source": [
    "### Franklin County Cases and DeathsTrends"
   ]
  },
  {
   "cell_type": "code",
   "execution_count": null,
   "id": "3e472db9",
   "metadata": {},
   "outputs": [],
   "source": [
    "#Select the winston_county_data \n",
    "franklin_county_data = top5_county_data[top5_county_data['County Name']=='Franklin County '].reset_index()\n",
    "\n",
    "# Get the index of the row when the first case was detected \n",
    "franklin_county_data_first_case_index = franklin_county_data['Num_of_Cases_per_day_normalized'].ne(0).idxmax() \n",
    "\n",
    "# Get the index of the row when the first death was detected \n",
    "franklin_county_data_first_death_index= franklin_county_data['Num_of_Deaths_per_day_normalized'].ne(0).idxmax() \n",
    "\n",
    "# Assign number of days since the first case\n",
    "numOfCasesSinceDay1=[]\n",
    "counter=1\n",
    "for i,index in enumerate(range(len(al_cleaned_data_df))):\n",
    "    if i<=franklin_county_data_first_case_index:\n",
    "        numOfCasesSinceDay1.insert(index, 0) \n",
    "    else:\n",
    "        numOfCasesSinceDay1.insert(index, counter) \n",
    "        counter = counter+1        \n",
    "franklin_county_data.insert(1, \"numOfDaysSinceFirstCase\", numOfCasesSinceDay1)\n",
    "\n",
    "# Assign number of days since the first death\n",
    "numOfDeathsSinceDay1=[]\n",
    "counter=1\n",
    "for i,index in enumerate(range(len(al_cleaned_data_df))):\n",
    "    if i<=franklin_county_data_first_death_index:\n",
    "        numOfDeathsSinceDay1.insert(index, 0) \n",
    "    else:\n",
    "        numOfDeathsSinceDay1.insert(index, counter) \n",
    "        counter = counter+1        \n",
    "franklin_county_data.insert(3, \"numOfDaysSinceFirstDeath\", numOfDeathsSinceDay1)\n",
    "\n",
    "#Select the wo colums which are required\n",
    "franklin_county_cases_before_drop = franklin_county_data[['numOfDaysSinceFirstCase','Num_of_Cases_per_day_normalized']]\n",
    "#Drop all the rows before the first case\n",
    "df_cases = franklin_county_cases_before_drop[franklin_county_cases_before_drop['numOfDaysSinceFirstCase']!=0]\n",
    "\n",
    "franklin_county_deaths_before_drop = franklin_county_data[['numOfDaysSinceFirstDeath','Num_of_Deaths_per_day_normalized']]\n",
    "df_deaths = franklin_county_deaths_before_drop[franklin_county_deaths_before_drop['numOfDaysSinceFirstDeath']!=0]\n",
    "\n",
    "print(df_cases.numOfDaysSinceFirstCase.count())\n",
    "print(df_deaths.numOfDaysSinceFirstDeath.count())"
   ]
  },
  {
   "cell_type": "code",
   "execution_count": null,
   "id": "0ca02d06",
   "metadata": {},
   "outputs": [],
   "source": [
    "future_dates_cases = np.arange(697,704).reshape(-1,1)\n",
    "future_dates_deaths = np.arange(652,659).reshape(-1,1)\n",
    "\n",
    "fig_cases = casesNonLinearModel(df_cases,future_dates_cases,\"Franklin_county\")\n",
    "fig_cases.show()"
   ]
  },
  {
   "cell_type": "code",
   "execution_count": null,
   "id": "b22d0004",
   "metadata": {},
   "outputs": [],
   "source": [
    "#Confidence Interval\n",
    "X = df_cases[\"numOfDaysSinceFirstCase\"].values.reshape(-1,1)\n",
    "y = df_cases[\"Num_of_Cases_per_day_normalized\"].values.reshape(-1,1)\n",
    "\n",
    "polynomial_features = PolynomialFeatures(degree=3)\n",
    "xp = polynomial_features.fit_transform(X)\n",
    "\n",
    "model = sm.OLS(y, xp).fit()\n",
    "ypred = model.predict(xp) \n",
    "\n",
    "from statsmodels.sandbox.regression.predstd import wls_prediction_std\n",
    "_, upper,lower = wls_prediction_std(model)\n",
    "\n",
    "plt.scatter(X,y)\n",
    "plt.plot(X,ypred)\n",
    "plt.plot(X,upper,'--',label=\"Upper\") # confid. intrvl\n",
    "plt.plot(X,lower,':',label=\"lower\")\n",
    "plt.title(\"Confidence Interval for Franklin County Cases\")\n",
    "plt.legend(loc='upper left')"
   ]
  },
  {
   "cell_type": "code",
   "execution_count": null,
   "id": "842ac378",
   "metadata": {},
   "outputs": [],
   "source": [
    "fig_deaths = deathsNonLinearModel(df_deaths,future_dates_deaths,\"Franklin_county\")\n",
    "fig_deaths.show()"
   ]
  },
  {
   "cell_type": "code",
   "execution_count": null,
   "id": "7b9c3341",
   "metadata": {},
   "outputs": [],
   "source": [
    "#Confidence Inteval\n",
    "X = df_deaths[\"numOfDaysSinceFirstDeath\"].values.reshape(-1,1)\n",
    "y = df_deaths[\"Num_of_Deaths_per_day_normalized\"].values.reshape(-1,1)\n",
    "\n",
    "polynomial_features = PolynomialFeatures(degree=3)\n",
    "xp = polynomial_features.fit_transform(X)\n",
    "\n",
    "model = sm.OLS(y, xp).fit()\n",
    "ypred = model.predict(xp) \n",
    "\n",
    "from statsmodels.sandbox.regression.predstd import wls_prediction_std\n",
    "_, upper,lower = wls_prediction_std(model)\n",
    "\n",
    "plt.scatter(X,y)\n",
    "plt.plot(X,ypred)\n",
    "plt.plot(X,upper,'--',label=\"Upper\") # confid. intrvl\n",
    "plt.plot(X,lower,':',label=\"lower\")\n",
    "plt.legend(loc='upper left')"
   ]
  },
  {
   "cell_type": "markdown",
   "id": "5eaafc70",
   "metadata": {},
   "source": [
    "### Clay County Cases and Deaths trends"
   ]
  },
  {
   "cell_type": "code",
   "execution_count": null,
   "id": "d8b8701d",
   "metadata": {},
   "outputs": [],
   "source": [
    "#Select the winston_county_data \n",
    "clay_county_data = top5_county_data[top5_county_data['County Name']=='Clay County '].reset_index()\n",
    "\n",
    "# Get the index of the row when the first case was detected \n",
    "clay_county_data_first_case_index = clay_county_data['Num_of_Cases_per_day_normalized'].ne(0).idxmax() \n",
    "\n",
    "# Get the index of the row when the first death was detected \n",
    "clay_county_data_first_death_index= clay_county_data['Num_of_Deaths_per_day_normalized'].ne(0).idxmax() \n",
    "\n",
    "# Assign number of days since the first case\n",
    "numOfCasesSinceDay1=[]\n",
    "counter=1\n",
    "for i,index in enumerate(range(len(al_cleaned_data_df))):\n",
    "    if i<=clay_county_data_first_case_index:\n",
    "        numOfCasesSinceDay1.insert(index, 0) \n",
    "    else:\n",
    "        numOfCasesSinceDay1.insert(index, counter) \n",
    "        counter = counter+1        \n",
    "clay_county_data.insert(1, \"numOfDaysSinceFirstCase\", numOfCasesSinceDay1)\n",
    "\n",
    "# Assign number of days since the first death\n",
    "numOfDeathsSinceDay1=[]\n",
    "counter=1\n",
    "for i,index in enumerate(range(len(al_cleaned_data_df))):\n",
    "    if i<=clay_county_data_first_death_index:\n",
    "        numOfDeathsSinceDay1.insert(index, 0) \n",
    "    else:\n",
    "        numOfDeathsSinceDay1.insert(index, counter) \n",
    "        counter = counter+1        \n",
    "clay_county_data.insert(3, \"numOfDaysSinceFirstDeath\", numOfDeathsSinceDay1)\n",
    "\n",
    "#Select the wo colums which are required\n",
    "clay_county_cases_before_drop = clay_county_data[['numOfDaysSinceFirstCase','Num_of_Cases_per_day_normalized']]\n",
    "#Drop all the rows before the first case\n",
    "df_cases = clay_county_cases_before_drop[clay_county_cases_before_drop['numOfDaysSinceFirstCase']!=0]\n",
    "\n",
    "clay_county_deaths_before_drop = clay_county_data[['numOfDaysSinceFirstDeath','Num_of_Deaths_per_day_normalized']]\n",
    "df_deaths = clay_county_deaths_before_drop[clay_county_deaths_before_drop['numOfDaysSinceFirstDeath']!=0]\n",
    "\n",
    "print(df_cases.numOfDaysSinceFirstCase.count())\n",
    "print(df_deaths.numOfDaysSinceFirstDeath.count())"
   ]
  },
  {
   "cell_type": "code",
   "execution_count": null,
   "id": "b13ccf0e",
   "metadata": {},
   "outputs": [],
   "source": [
    "future_dates_cases = np.arange(694,701).reshape(-1,1)\n",
    "future_dates_deaths = np.arange(665,672).reshape(-1,1)\n",
    "\n",
    "fig_cases = casesNonLinearModel(df_cases,future_dates_cases,\"Clay_county\")\n",
    "fig_cases.show()"
   ]
  },
  {
   "cell_type": "code",
   "execution_count": null,
   "id": "641f508b",
   "metadata": {},
   "outputs": [],
   "source": []
  },
  {
   "cell_type": "code",
   "execution_count": null,
   "id": "68fea42f",
   "metadata": {},
   "outputs": [],
   "source": [
    "#Confidence Interval\n",
    "X = df_cases[\"numOfDaysSinceFirstCase\"].values.reshape(-1,1)\n",
    "y = df_cases[\"Num_of_Cases_per_day_normalized\"].values.reshape(-1,1)\n",
    "\n",
    "polynomial_features = PolynomialFeatures(degree=4)\n",
    "xp = polynomial_features.fit_transform(X)\n",
    "\n",
    "model = sm.OLS(y, xp).fit()\n",
    "ypred = model.predict(xp) \n",
    "\n",
    "from statsmodels.sandbox.regression.predstd import wls_prediction_std\n",
    "_, upper,lower = wls_prediction_std(model)\n",
    "\n",
    "plt.scatter(X,y)\n",
    "plt.plot(X,ypred)\n",
    "plt.plot(X,upper,'--',label=\"Upper\") # confid. intrvl\n",
    "plt.plot(X,lower,':',label=\"lower\")\n",
    "plt.title(\"Confidence interval for Clay County\")\n",
    "plt.legend(loc='upper left')"
   ]
  },
  {
   "cell_type": "code",
   "execution_count": null,
   "id": "d554afc3",
   "metadata": {},
   "outputs": [],
   "source": [
    "fig_deaths = deathsNonLinearModel(df_deaths,future_dates_deaths,\"Clay_county\")\n",
    "fig_deaths.show()"
   ]
  },
  {
   "cell_type": "code",
   "execution_count": null,
   "id": "b7c6bf2d",
   "metadata": {},
   "outputs": [],
   "source": [
    "#Confidence Inteval\n",
    "X = df_deaths[\"numOfDaysSinceFirstDeath\"].values.reshape(-1,1)\n",
    "y = df_deaths[\"Num_of_Deaths_per_day_normalized\"].values.reshape(-1,1)\n",
    "\n",
    "polynomial_features = PolynomialFeatures(degree=3)\n",
    "xp = polynomial_features.fit_transform(X)\n",
    "\n",
    "model = sm.OLS(y, xp).fit()\n",
    "ypred = model.predict(xp) \n",
    "\n",
    "from statsmodels.sandbox.regression.predstd import wls_prediction_std\n",
    "_, upper,lower = wls_prediction_std(model)\n",
    "\n",
    "plt.scatter(X,y)\n",
    "plt.plot(X,ypred)\n",
    "plt.plot(X,upper,'--',label=\"Upper\") # confid. intrvl\n",
    "plt.plot(X,lower,':',label=\"lower\")\n",
    "plt.legend(loc='upper left')"
   ]
  },
  {
   "cell_type": "markdown",
   "id": "b1ee2138",
   "metadata": {},
   "source": [
    "### Clarke County Cases and Deaths trends"
   ]
  },
  {
   "cell_type": "code",
   "execution_count": null,
   "id": "3417aed3",
   "metadata": {},
   "outputs": [],
   "source": [
    "#Select the winston_county_data \n",
    "clarke_county_data = top5_county_data[top5_county_data['County Name']=='Clarke County '].reset_index()\n",
    "\n",
    "# Get the index of the row when the first case was detected \n",
    "clarke_county_data_first_case_index = clarke_county_data['Num_of_Cases_per_day_normalized'].ne(0).idxmax() \n",
    "\n",
    "# Get the index of the row when the first death was detected \n",
    "clarke_county_data_first_death_index= clarke_county_data['Num_of_Deaths_per_day_normalized'].ne(0).idxmax() \n",
    "\n",
    "# Assign number of days since the first case\n",
    "numOfCasesSinceDay1=[]\n",
    "counter=1\n",
    "for i,index in enumerate(range(len(al_cleaned_data_df))):\n",
    "    if i<=clarke_county_data_first_case_index:\n",
    "        numOfCasesSinceDay1.insert(index, 0) \n",
    "    else:\n",
    "        numOfCasesSinceDay1.insert(index, counter) \n",
    "        counter = counter+1        \n",
    "clarke_county_data.insert(1, \"numOfDaysSinceFirstCase\", numOfCasesSinceDay1)\n",
    "\n",
    "# Assign number of days since the first death\n",
    "numOfDeathsSinceDay1=[]\n",
    "counter=1\n",
    "for i,index in enumerate(range(len(al_cleaned_data_df))):\n",
    "    if i<=clarke_county_data_first_death_index:\n",
    "        numOfDeathsSinceDay1.insert(index, 0) \n",
    "    else:\n",
    "        numOfDeathsSinceDay1.insert(index, counter) \n",
    "        counter = counter+1        \n",
    "clarke_county_data.insert(3, \"numOfDaysSinceFirstDeath\", numOfDeathsSinceDay1)\n",
    "\n",
    "#Select the wo colums which are required\n",
    "clarke_county_cases_before_drop = clarke_county_data[['numOfDaysSinceFirstCase','Num_of_Cases_per_day_normalized']]\n",
    "#Drop all the rows before the first case\n",
    "df_cases = clarke_county_cases_before_drop[clarke_county_cases_before_drop['numOfDaysSinceFirstCase']!=0]\n",
    "\n",
    "clarke_county_deaths_before_drop = clarke_county_data[['numOfDaysSinceFirstDeath','Num_of_Deaths_per_day_normalized']]\n",
    "df_deaths = clarke_county_deaths_before_drop[clarke_county_deaths_before_drop['numOfDaysSinceFirstDeath']!=0]\n",
    "\n",
    "print(df_cases.numOfDaysSinceFirstCase.count())\n",
    "print(df_deaths.numOfDaysSinceFirstDeath.count())"
   ]
  },
  {
   "cell_type": "code",
   "execution_count": null,
   "id": "afee8c4d",
   "metadata": {},
   "outputs": [],
   "source": [
    "future_dates_cases = np.arange(687,694).reshape(-1,1)\n",
    "future_dates_deaths = np.arange(667,674).reshape(-1,1)\n",
    "\n",
    "fig_cases = casesNonLinearModel(df_cases,future_dates_cases,\"Clarke_county\")\n",
    "fig_cases.show()"
   ]
  },
  {
   "cell_type": "code",
   "execution_count": null,
   "id": "121d885f",
   "metadata": {},
   "outputs": [],
   "source": [
    "#Confidence Interval\n",
    "X = df_cases[\"numOfDaysSinceFirstCase\"].values.reshape(-1,1)\n",
    "y = df_cases[\"Num_of_Cases_per_day_normalized\"].values.reshape(-1,1)\n",
    "\n",
    "polynomial_features = PolynomialFeatures(degree=4)\n",
    "xp = polynomial_features.fit_transform(X)\n",
    "\n",
    "model = sm.OLS(y, xp).fit()\n",
    "ypred = model.predict(xp) \n",
    "\n",
    "from statsmodels.sandbox.regression.predstd import wls_prediction_std\n",
    "_, upper,lower = wls_prediction_std(model)\n",
    "\n",
    "plt.scatter(X,y)\n",
    "plt.plot(X,ypred,linewidth=2)\n",
    "plt.plot(X,upper,'--',label=\"Upper\") # confid. intrvl\n",
    "plt.plot(X,lower,':',label=\"lower\")\n",
    "plt.title(\"Confidence Interval for Clarke county cases\")\n",
    "plt.legend(loc='upper left')"
   ]
  },
  {
   "cell_type": "code",
   "execution_count": null,
   "id": "2e1b630a",
   "metadata": {},
   "outputs": [],
   "source": [
    "fig_deaths = deathsNonLinearModel(df_deaths,future_dates_deaths,\"Clarke_county\")\n",
    "fig_deaths.show()"
   ]
  },
  {
   "cell_type": "code",
   "execution_count": null,
   "id": "dae6142b",
   "metadata": {},
   "outputs": [],
   "source": [
    "#Confidence Inteval\n",
    "X = df_deaths[\"numOfDaysSinceFirstDeath\"].values.reshape(-1,1)\n",
    "y = df_deaths[\"Num_of_Deaths_per_day_normalized\"].values.reshape(-1,1)\n",
    "\n",
    "polynomial_features = PolynomialFeatures(degree=3)\n",
    "xp = polynomial_features.fit_transform(X)\n",
    "\n",
    "model = sm.OLS(y, xp).fit()\n",
    "ypred = model.predict(xp) \n",
    "\n",
    "from statsmodels.sandbox.regression.predstd import wls_prediction_std\n",
    "_, upper,lower = wls_prediction_std(model)\n",
    "\n",
    "plt.scatter(X,y)\n",
    "plt.plot(X,ypred)\n",
    "plt.plot(X,upper,'--',label=\"Upper\") # confid. intrvl\n",
    "plt.plot(X,lower,':',label=\"lower\")\n",
    "plt.legend(loc='upper left')"
   ]
  },
  {
   "cell_type": "markdown",
   "id": "0f19e67e",
   "metadata": {},
   "source": [
    "### Member task 2 Conclusion\n",
    "- After analyzing the trend lines and prediction paths of above counties, we can observe that the Hale county is at higher risk and the number of cases are predicted to increase at a higher rate when compared to other counties. \n",
    "- The second county which is at most risk is the Winston County "
   ]
  },
  {
   "cell_type": "code",
   "execution_count": null,
   "id": "129596d8",
   "metadata": {},
   "outputs": [],
   "source": [
    "covid_hospital_merged_df = pd.read_parquet(\"../../../../data/member/venkat/hospitalBeds_merged_sample.parquet.gzip\")\n",
    "covid_hospital_merged_df"
   ]
  },
  {
   "cell_type": "code",
   "execution_count": null,
   "id": "4817e133",
   "metadata": {},
   "outputs": [],
   "source": [
    "def nonLinearModelStateCases(state,num_degree,prediction):\n",
    "    state_hospital_data= covid_hospital_merged_df[covid_hospital_merged_df['State']==state]\n",
    "\n",
    "    #Calculate new cases and deaths for each day\n",
    "    state_hospital_data['Num_of_Cases_per_day'] = state_hospital_data['Cases'].diff()\n",
    "    state_hospital_data['Num_of_Deaths_per_day'] = state_hospital_data['Death'].diff()\n",
    "    \n",
    "    state_hospital_data['Num_of_Cases_per_day'][state_hospital_data['Num_of_Cases_per_day'] < 0] = 0\n",
    "    state_hospital_data['Num_of_Deaths_per_day'][state_hospital_data['Num_of_Deaths_per_day'] < 0] = 0\n",
    "    \n",
    "    #Drop the first date as we we are using .diff, we will get the first value as NAN \n",
    "    state_hospital_data = state_hospital_data[state_hospital_data['Date'] != '2020-01-22']\n",
    "\n",
    "    # Get the total number of cases and deaths for edf_Mexico_cases_newach day \n",
    "    state_hospital_data_groupedBydate = state_hospital_data.groupby(\"Date\").sum().reset_index()\n",
    "    \n",
    "    # Get the index of the row when the first death was detected \n",
    "    state_first_Cases_index= state_hospital_data_groupedBydate['Num_of_Cases_per_day'].ne(0).idxmax() \n",
    "\n",
    "    # Assign number of days since the first death\n",
    "    numOfCasesSinceDay1=[]\n",
    "    counter=1\n",
    "    for i,index in enumerate(range(len(al_cleaned_data_df))):\n",
    "        if i<=state_first_Cases_index:\n",
    "            numOfCasesSinceDay1.insert(index, 0) \n",
    "        else:\n",
    "            numOfCasesSinceDay1.insert(index, counter) \n",
    "            counter = counter+1        \n",
    "    state_hospital_data_groupedBydate.insert(3, \"numOfDaysSinceFirstCases\", numOfCasesSinceDay1)\n",
    "    \n",
    "    #max_num_icu_beds = state_hospital_data_groupedBydate.iloc[0]['icu_beds_used_7_day_avg']\n",
    "    state_no_return_df=state_hospital_data_groupedBydate[['numOfDaysSinceFirstCases','Num_of_Cases_per_day','icu_beds_used_7_day_avg']]\n",
    "    df_Cases = state_no_return_df[state_no_return_df['numOfDaysSinceFirstCases']!=0]\n",
    "    #Define the independent and dependent variable\n",
    "    X = df_Cases.numOfDaysSinceFirstCases.values.reshape(-1, 1)\n",
    "    y_d = df_Cases.Num_of_Cases_per_day.values.reshape(-1, 1)\n",
    "    x_range = np.linspace(X.min(), X.max(), y_d.shape[0]).reshape(-1, 1)\n",
    "    last_date = len(df_Cases)-1\n",
    "    if prediction == True :\n",
    "        predictionDays=800\n",
    "    else:\n",
    "        predictionDays=last_date+7\n",
    "    future_dates = np.arange(last_date,predictionDays).reshape(-1,1)\n",
    "\n",
    "    fig = go.Figure()\n",
    "    fig.add_traces(go.Scatter(x=df_Cases['numOfDaysSinceFirstCases'], y=df_Cases['Num_of_Cases_per_day']\n",
    "                              , name= \"Actual Cases\", mode=\"markers\"))\n",
    "    for degree in num_degree:\n",
    "\n",
    "        #Define and fit the LinearRegression model\n",
    "        poly = PolynomialFeatures(degree)\n",
    "        poly.fit(X)\n",
    "        X_poly = poly.transform(X)\n",
    "        x_range_poly = poly.transform(x_range)\n",
    "        future_dates_poly = poly.transform(future_dates)\n",
    "\n",
    "        model = LinearRegression(fit_intercept=False)\n",
    "        model.fit(X_poly, df_Cases.Num_of_Cases_per_day)\n",
    "\n",
    "        #predict the number of new deaths per day since the fist deaths\n",
    "        y_poly = model.predict(x_range_poly)\n",
    "\n",
    "        # Predict the number of new deaths for the next 1 week's of data\n",
    "        future_cases = model.predict(future_dates_poly)\n",
    "        \n",
    "        #Caluculate the metrics and print\n",
    "        print(\"RMSE for degree =\",degree,\"is \",np.sqrt(metrics.mean_squared_error(y_d,y_poly)))\n",
    "        \n",
    "        #Plot the trend line and prediction path\n",
    "        fig.add_traces(go.Scatter(x=x_range.squeeze(), y=y_poly, name=\"Poly Degree:{}\".format(degree)))\n",
    "        fig.add_traces(go.Scatter(x=future_dates.squeeze(),y=future_cases.squeeze(),name='Deg:{} Prediction'.format(degree),mode='lines')),\n",
    "        fig.update_layout(\n",
    "        title={'text':\"Non-Linear Regression for {} Cases\".format(state),\n",
    "               'y':0.92,'x':0.5,\n",
    "               'xanchor':'center', \n",
    "               'yanchor':'top'},\n",
    "        xaxis_title=\"Number of Days since first Case\",\n",
    "        yaxis_title=\"Number of new Cases \",\n",
    "    )\n",
    "    return fig"
   ]
  },
  {
   "cell_type": "code",
   "execution_count": null,
   "id": "571f637a",
   "metadata": {},
   "outputs": [],
   "source": [
    "def nonLinearModelStateDeaths(state,num_degree,prediction):\n",
    "    state_hospital_data= covid_hospital_merged_df[covid_hospital_merged_df['State']==state]\n",
    "\n",
    "    #Calculate new cases and deaths for each day\n",
    "    state_hospital_data['Num_of_Cases_per_day'] = state_hospital_data['Cases'].diff()\n",
    "    state_hospital_data['Num_of_Deaths_per_day'] = state_hospital_data['Death'].diff()\n",
    "    \n",
    "    state_hospital_data['Num_of_Cases_per_day'][state_hospital_data['Num_of_Cases_per_day'] < 0] = 0\n",
    "    state_hospital_data['Num_of_Deaths_per_day'][state_hospital_data['Num_of_Deaths_per_day'] < 0] = 0\n",
    "    \n",
    "    #Drop the first date as we we are using .diff, we will get the first value as NAN \n",
    "    state_hospital_data = state_hospital_data[state_hospital_data['Date'] != '2020-01-22']\n",
    "\n",
    "    # Get the total number of cases and deaths for edf_Mexico_cases_newach day \n",
    "    state_hospital_data_groupedBydate = state_hospital_data.groupby(\"Date\").sum().reset_index()\n",
    "    \n",
    "    # Get the index of the row when the first death was detected \n",
    "    state_first_death_index= state_hospital_data_groupedBydate['Num_of_Deaths_per_day'].ne(0).idxmax() \n",
    "\n",
    "    # Assign number of days since the first death\n",
    "    numOfDeathsSinceDay1=[]\n",
    "    counter=1\n",
    "    for i,index in enumerate(range(len(al_cleaned_data_df))):\n",
    "        if i<=state_first_death_index:\n",
    "            numOfDeathsSinceDay1.insert(index, 0) \n",
    "        else:\n",
    "            numOfDeathsSinceDay1.insert(index, counter) \n",
    "            counter = counter+1        \n",
    "    state_hospital_data_groupedBydate.insert(3, \"numOfDaysSinceFirstDeath\", numOfDeathsSinceDay1)\n",
    "    \n",
    "    #max_num_icu_beds = state_hospital_data_groupedBydate.iloc[0]['icu_beds_used_7_day_avg']\n",
    "    state_no_return_df=state_hospital_data_groupedBydate[['numOfDaysSinceFirstDeath','Num_of_Deaths_per_day','icu_beds_used_7_day_avg']]\n",
    "    df_deaths = state_no_return_df[state_no_return_df['numOfDaysSinceFirstDeath']!=0]\n",
    "    #Define the independent and dependent variable\n",
    "    X = df_deaths.numOfDaysSinceFirstDeath.values.reshape(-1, 1)\n",
    "    y_d = df_deaths.Num_of_Deaths_per_day.values.reshape(-1, 1)\n",
    "    x_range = np.linspace(X.min(), X.max(), y_d.shape[0]).reshape(-1, 1)\n",
    "    last_date = len(df_deaths)-1\n",
    "    if prediction == True :\n",
    "        predictionDays=800\n",
    "    else:\n",
    "        predictionDays=last_date+7\n",
    "    future_dates = np.arange(last_date,predictionDays).reshape(-1,1)\n",
    "\n",
    "    fig = go.Figure()\n",
    "    fig.add_traces(go.Scatter(x=df_deaths['numOfDaysSinceFirstDeath'], y=df_deaths['Num_of_Deaths_per_day']\n",
    "                              , name= \"Actual Deaths\", mode=\"markers\"))\n",
    "    for degree in num_degree:\n",
    "\n",
    "        #Define and fit the LinearRegression model\n",
    "        poly = PolynomialFeatures(degree)\n",
    "        poly.fit(X)\n",
    "        X_poly = poly.transform(X)\n",
    "        x_range_poly = poly.transform(x_range)\n",
    "        future_dates_poly = poly.transform(future_dates)\n",
    "\n",
    "        model = LinearRegression(fit_intercept=False)\n",
    "        model.fit(X_poly, df_deaths.Num_of_Deaths_per_day)\n",
    "\n",
    "        #predict the number of new deaths per day since the fist deaths\n",
    "        y_poly = model.predict(x_range_poly)\n",
    "\n",
    "        # Predict the number of new deaths for the next 1 week's of data\n",
    "        future_cases = model.predict(future_dates_poly)\n",
    "        \n",
    "        #Caluculate the metrics and print\n",
    "        print(\"RMSE for degree =\",degree,\"is \",np.sqrt(metrics.mean_squared_error(y_d,y_poly)))\n",
    "        \n",
    "        #Plot the trend line and prediction path\n",
    "        fig.add_traces(go.Scatter(x=x_range.squeeze(), y=y_poly, name=\"Poly Degree:{}\".format(degree)))\n",
    "        fig.add_traces(go.Scatter(x=future_dates.squeeze(),y=future_cases.squeeze(),name='Deg:{} Prediction'.format(degree),mode='lines')),\n",
    "        fig.update_layout(\n",
    "        title={'text':\"Non-Linear Regression for {} Deaths\".format(state),\n",
    "               'y':0.92,'x':0.5,\n",
    "               'xanchor':'center', \n",
    "               'yanchor':'top'},\n",
    "        xaxis_title=\"Number of Days since first death\",\n",
    "        yaxis_title=\"Number of new deaths \",\n",
    "    )\n",
    "    return fig"
   ]
  },
  {
   "cell_type": "markdown",
   "id": "4d5edc7b",
   "metadata": {},
   "source": [
    "### Plotting non linear regression graph and prediction for Alabama state Cases"
   ]
  },
  {
   "cell_type": "code",
   "execution_count": null,
   "id": "6fbba4ca",
   "metadata": {},
   "outputs": [],
   "source": [
    "#AL Modeling\n",
    "fig_name = nonLinearModelStateCases(\"AL\",[1,2,3,4],False)\n",
    "fig_name.show()"
   ]
  },
  {
   "cell_type": "code",
   "execution_count": null,
   "id": "fe2af855",
   "metadata": {},
   "outputs": [],
   "source": [
    "fig_name = nonLinearModelStateCases(\"AL\",[2],True)\n",
    "fig_name.show()"
   ]
  },
  {
   "cell_type": "markdown",
   "id": "75497730",
   "metadata": {},
   "source": [
    "### Observation:\n",
    "\n",
    " - From the above plot and the model metrics we can observe that non-linear model with degree 2 best fits the data so we will use degree 3 for prediction and we can observe that Cases will be increased in future"
   ]
  },
  {
   "cell_type": "markdown",
   "id": "fa5aae9a",
   "metadata": {},
   "source": [
    "### Plotting non linear regression graph and prediction for Alabama state deaths"
   ]
  },
  {
   "cell_type": "code",
   "execution_count": null,
   "id": "076303aa",
   "metadata": {},
   "outputs": [],
   "source": [
    "#AL Modeling\n",
    "fig_name = nonLinearModelStateDeaths(\"AL\",[1,2,3,4],False)\n",
    "fig_name.show()"
   ]
  },
  {
   "cell_type": "code",
   "execution_count": null,
   "id": "701cd9eb",
   "metadata": {},
   "outputs": [],
   "source": [
    "fig_name = nonLinearModelStateDeaths(\"AL\",[3],True)\n",
    "fig_name.show()"
   ]
  },
  {
   "cell_type": "markdown",
   "id": "28d66408",
   "metadata": {},
   "source": [
    "### Observation:\n",
    "\n",
    " - From the above plot and the model metrics we can observe that non-linear model with degree 3 best fits the data so we will use degree 3 for prediction and we can observe that deaths will be increased in future"
   ]
  },
  {
   "cell_type": "markdown",
   "id": "93bcc2bd",
   "metadata": {},
   "source": [
    "### Hypothesis Testing:"
   ]
  },
  {
   "cell_type": "code",
   "execution_count": null,
   "id": "06555137",
   "metadata": {},
   "outputs": [],
   "source": [
    "#group by state and compute the enhacement data for each state\n",
    "analysis_data_grp = covid_hospital_merged_df.groupby(['State']).sum().reset_index()\n",
    "analysis_data_grp = analysis_data_grp.drop(columns=['countyFIPS', 'StateFIPS'])\n",
    "analysis_data_grp"
   ]
  },
  {
   "cell_type": "markdown",
   "id": "af7321e9",
   "metadata": {},
   "source": [
    "### Hypothesis to determine if states with highest population has highest cases"
   ]
  },
  {
   "cell_type": "code",
   "execution_count": null,
   "id": "ba593415",
   "metadata": {},
   "outputs": [],
   "source": [
    "stats.ttest_ind(a=analysis_data_grp['Cases'], b= analysis_data_grp['population'],equal_var=False)"
   ]
  },
  {
   "cell_type": "markdown",
   "id": "bca71f5e",
   "metadata": {},
   "source": [
    "In this case, the p-value is lower than our significance level α (equal to 1-conf.level or 0.05) so, we should reject the null hypothesis."
   ]
  },
  {
   "cell_type": "markdown",
   "id": "18cc50af",
   "metadata": {},
   "source": [
    "### Hypothesis to determine if states with highest number cases has highest number of deaths"
   ]
  },
  {
   "cell_type": "code",
   "execution_count": null,
   "id": "67123484",
   "metadata": {},
   "outputs": [],
   "source": [
    "stats.ttest_ind(a=analysis_data_grp['Cases'], b= analysis_data_grp['Death'],equal_var=False)"
   ]
  },
  {
   "cell_type": "markdown",
   "id": "1b218a20",
   "metadata": {},
   "source": [
    "In this case, the p-value is lower than our significance level α (equal to 1-conf.level or 0.05) so, we should reject the null hypothesis."
   ]
  },
  {
   "cell_type": "markdown",
   "id": "8ab77314",
   "metadata": {},
   "source": [
    "### Hypothesis to determine if state with population has highest number hospital beds available"
   ]
  },
  {
   "cell_type": "code",
   "execution_count": null,
   "id": "312b58b3",
   "metadata": {},
   "outputs": [],
   "source": [
    "stats.ttest_ind(a=analysis_data_grp['population'], b= analysis_data_grp['total_beds_7_day_avg'],equal_var=False)"
   ]
  },
  {
   "cell_type": "markdown",
   "id": "285198a3",
   "metadata": {},
   "source": [
    "In this case, the p-value is lower than our significance level α (equal to 1-conf.level or 0.05) so, we should reject the null hypothesis."
   ]
  },
  {
   "cell_type": "markdown",
   "id": "7efe15b8",
   "metadata": {},
   "source": [
    "### Hypothesis to determine if state with highest number of hospital beds have used higher icu beds"
   ]
  },
  {
   "cell_type": "code",
   "execution_count": null,
   "id": "ab3b19f0",
   "metadata": {},
   "outputs": [],
   "source": [
    "stats.ttest_ind(a=analysis_data_grp['total_beds_7_day_avg'], b= analysis_data_grp['icu_beds_used_7_day_avg'],equal_var=False)"
   ]
  },
  {
   "cell_type": "markdown",
   "id": "680a6447",
   "metadata": {},
   "source": [
    "In this case, the p-value is greater than our significance level α (equal to 1-conf.level or 0.05) so, we would fail to reject the null hypothesis."
   ]
  },
  {
   "cell_type": "code",
   "execution_count": null,
   "id": "28b1fc5b",
   "metadata": {},
   "outputs": [],
   "source": []
  }
 ],
 "metadata": {
  "kernelspec": {
   "display_name": "Python 3 (ipykernel)",
   "language": "python",
   "name": "python3"
  },
  "language_info": {
   "codemirror_mode": {
    "name": "ipython",
    "version": 3
   },
   "file_extension": ".py",
   "mimetype": "text/x-python",
   "name": "python",
   "nbconvert_exporter": "python",
   "pygments_lexer": "ipython3",
   "version": "3.9.7"
  }
 },
 "nbformat": 4,
 "nbformat_minor": 5
}
